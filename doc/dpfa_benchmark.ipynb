{
  "nbformat": 4,
  "nbformat_minor": 0,
  "metadata": {
    "colab": {
      "name": "dpfa_benchmark.ipynb",
      "provenance": [],
      "collapsed_sections": [],
      "machine_shape": "hm"
    },
    "kernelspec": {
      "name": "python3",
      "display_name": "Python 3"
    },
    "language_info": {
      "name": "python"
    },
    "accelerator": "GPU"
  },
  "cells": [
    {
      "cell_type": "markdown",
      "metadata": {
        "id": "qhMiUHL8FN0g"
      },
      "source": [
        "This notebook shows how to import a DPFA model as a tensorflow keras model and train it."
      ]
    },
    {
      "cell_type": "markdown",
      "metadata": {
        "id": "dG0Y0i6wWnEE"
      },
      "source": [
        "# 1. System Setup"
      ]
    },
    {
      "cell_type": "code",
      "metadata": {
        "id": "QPVV7S2yE9md"
      },
      "source": [
        "from google.colab import drive\n",
        "import tensorflow as tf\n",
        "import os\n",
        "import sys\n",
        "\n",
        "BASE_DIR = '/content/dirve'\n",
        "CODE_DIR = os.path.join(BASE_DIR, 'My Drive')\n",
        "DATA_DIR = os.path.join(CODE_DIR, 'dpfa', 'data')"
      ],
      "execution_count": 1,
      "outputs": []
    },
    {
      "cell_type": "code",
      "metadata": {
        "colab": {
          "base_uri": "https://localhost:8080/"
        },
        "id": "s4wgHxgSsS32",
        "outputId": "327581b5-193b-4d03-8e0a-4013400ca702"
      },
      "source": [
        "# check if GPU is visible\n",
        "tf.config.list_physical_devices('GPU')"
      ],
      "execution_count": 2,
      "outputs": [
        {
          "output_type": "execute_result",
          "data": {
            "text/plain": [
              "[PhysicalDevice(name='/physical_device:GPU:0', device_type='GPU')]"
            ]
          },
          "metadata": {
            "tags": []
          },
          "execution_count": 2
        }
      ]
    },
    {
      "cell_type": "code",
      "metadata": {
        "colab": {
          "base_uri": "https://localhost:8080/"
        },
        "id": "ZaT1SAE_FKEZ",
        "outputId": "27b302ef-cd35-4f8b-9e9a-808f2d475c3d"
      },
      "source": [
        "# mount google drive to access data\n",
        "drive.mount(BASE_DIR, force_remount=True)"
      ],
      "execution_count": 3,
      "outputs": [
        {
          "output_type": "stream",
          "text": [
            "Mounted at /content/dirve\n"
          ],
          "name": "stdout"
        }
      ]
    },
    {
      "cell_type": "code",
      "metadata": {
        "id": "YJHfQT6ePWTz"
      },
      "source": [
        "# change to the destination dir\n",
        "os.chdir(os.path.join(BASE_DIR, 'MyDrive', 'dpfa', 'dpfa'))"
      ],
      "execution_count": 4,
      "outputs": []
    },
    {
      "cell_type": "code",
      "metadata": {
        "colab": {
          "base_uri": "https://localhost:8080/",
          "height": 1000
        },
        "id": "_QTx-5tFFMXm",
        "outputId": "ab94eb8f-8ac7-4bab-ea5a-34af4425b69f"
      },
      "source": [
        "# only run once at start\n",
        "!pip install -r ../requirements.txt "
      ],
      "execution_count": 5,
      "outputs": [
        {
          "output_type": "stream",
          "text": [
            "Requirement already satisfied: absl-py==0.12.0 in /usr/local/lib/python3.7/dist-packages (from -r ../requirements.txt (line 1)) (0.12.0)\n",
            "Requirement already satisfied: astunparse==1.6.3 in /usr/local/lib/python3.7/dist-packages (from -r ../requirements.txt (line 2)) (1.6.3)\n",
            "Requirement already satisfied: attrs==21.2.0 in /usr/local/lib/python3.7/dist-packages (from -r ../requirements.txt (line 3)) (21.2.0)\n",
            "Requirement already satisfied: cached-property==1.5.2 in /usr/local/lib/python3.7/dist-packages (from -r ../requirements.txt (line 4)) (1.5.2)\n",
            "Requirement already satisfied: cachetools==4.2.2 in /usr/local/lib/python3.7/dist-packages (from -r ../requirements.txt (line 5)) (4.2.2)\n",
            "Requirement already satisfied: certifi==2021.5.30 in /usr/local/lib/python3.7/dist-packages (from -r ../requirements.txt (line 6)) (2021.5.30)\n",
            "Collecting charset-normalizer==2.0.3\n",
            "  Downloading charset_normalizer-2.0.3-py3-none-any.whl (35 kB)\n",
            "Requirement already satisfied: cycler==0.10.0 in /usr/local/lib/python3.7/dist-packages (from -r ../requirements.txt (line 8)) (0.10.0)\n",
            "Collecting Cython==0.29.24\n",
            "  Downloading Cython-0.29.24-cp37-cp37m-manylinux1_x86_64.whl (2.0 MB)\n",
            "\u001b[K     |████████████████████████████████| 2.0 MB 12.8 MB/s \n",
            "\u001b[?25hRequirement already satisfied: dill==0.3.4 in /usr/local/lib/python3.7/dist-packages (from -r ../requirements.txt (line 10)) (0.3.4)\n",
            "Requirement already satisfied: dm-tree==0.1.6 in /usr/local/lib/python3.7/dist-packages (from -r ../requirements.txt (line 11)) (0.1.6)\n",
            "Requirement already satisfied: flatbuffers==1.12 in /usr/local/lib/python3.7/dist-packages (from -r ../requirements.txt (line 12)) (1.12)\n",
            "Collecting future==0.18.2\n",
            "  Downloading future-0.18.2.tar.gz (829 kB)\n",
            "\u001b[K     |████████████████████████████████| 829 kB 46.2 MB/s \n",
            "\u001b[?25hRequirement already satisfied: gast==0.4.0 in /usr/local/lib/python3.7/dist-packages (from -r ../requirements.txt (line 14)) (0.4.0)\n",
            "Requirement already satisfied: gin-config==0.4.0 in /usr/local/lib/python3.7/dist-packages (from -r ../requirements.txt (line 15)) (0.4.0)\n",
            "Collecting google-api-core==1.31.0\n",
            "  Downloading google_api_core-1.31.0-py2.py3-none-any.whl (93 kB)\n",
            "\u001b[K     |████████████████████████████████| 93 kB 1.4 MB/s \n",
            "\u001b[?25hCollecting google-api-python-client==2.14.0\n",
            "  Downloading google_api_python_client-2.14.0-py2.py3-none-any.whl (7.1 MB)\n",
            "\u001b[K     |████████████████████████████████| 7.1 MB 28.9 MB/s \n",
            "\u001b[?25hCollecting google-auth==1.33.1\n",
            "  Downloading google_auth-1.33.1-py2.py3-none-any.whl (152 kB)\n",
            "\u001b[K     |████████████████████████████████| 152 kB 46.0 MB/s \n",
            "\u001b[?25hCollecting google-auth-httplib2==0.1.0\n",
            "  Downloading google_auth_httplib2-0.1.0-py2.py3-none-any.whl (9.3 kB)\n",
            "Requirement already satisfied: google-auth-oauthlib==0.4.4 in /usr/local/lib/python3.7/dist-packages (from -r ../requirements.txt (line 20)) (0.4.4)\n",
            "Requirement already satisfied: google-pasta==0.2.0 in /usr/local/lib/python3.7/dist-packages (from -r ../requirements.txt (line 21)) (0.2.0)\n",
            "Requirement already satisfied: googleapis-common-protos==1.53.0 in /usr/local/lib/python3.7/dist-packages (from -r ../requirements.txt (line 22)) (1.53.0)\n",
            "Requirement already satisfied: grpcio==1.34.1 in /usr/local/lib/python3.7/dist-packages (from -r ../requirements.txt (line 23)) (1.34.1)\n",
            "Requirement already satisfied: h5py==3.1.0 in /usr/local/lib/python3.7/dist-packages (from -r ../requirements.txt (line 24)) (3.1.0)\n",
            "Collecting httplib2==0.19.1\n",
            "  Downloading httplib2-0.19.1-py3-none-any.whl (95 kB)\n",
            "\u001b[K     |████████████████████████████████| 95 kB 4.3 MB/s \n",
            "\u001b[?25hCollecting idna==3.2\n",
            "  Downloading idna-3.2-py3-none-any.whl (59 kB)\n",
            "\u001b[K     |████████████████████████████████| 59 kB 7.3 MB/s \n",
            "\u001b[?25hRequirement already satisfied: importlib-metadata==4.6.1 in /usr/local/lib/python3.7/dist-packages (from -r ../requirements.txt (line 27)) (4.6.1)\n",
            "Requirement already satisfied: importlib-resources==5.2.0 in /usr/local/lib/python3.7/dist-packages (from -r ../requirements.txt (line 28)) (5.2.0)\n",
            "Requirement already satisfied: joblib==1.0.1 in /usr/local/lib/python3.7/dist-packages (from -r ../requirements.txt (line 29)) (1.0.1)\n",
            "Requirement already satisfied: kaggle==1.5.12 in /usr/local/lib/python3.7/dist-packages (from -r ../requirements.txt (line 30)) (1.5.12)\n",
            "Requirement already satisfied: keras-nightly==2.5.0.dev2021032900 in /usr/local/lib/python3.7/dist-packages (from -r ../requirements.txt (line 31)) (2.5.0.dev2021032900)\n",
            "Requirement already satisfied: Keras-Preprocessing==1.1.2 in /usr/local/lib/python3.7/dist-packages (from -r ../requirements.txt (line 32)) (1.1.2)\n",
            "Requirement already satisfied: kiwisolver==1.3.1 in /usr/local/lib/python3.7/dist-packages (from -r ../requirements.txt (line 33)) (1.3.1)\n",
            "Requirement already satisfied: Markdown==3.3.4 in /usr/local/lib/python3.7/dist-packages (from -r ../requirements.txt (line 34)) (3.3.4)\n",
            "Collecting matplotlib==3.4.2\n",
            "  Downloading matplotlib-3.4.2-cp37-cp37m-manylinux1_x86_64.whl (10.3 MB)\n",
            "\u001b[K     |████████████████████████████████| 10.3 MB 39.2 MB/s \n",
            "\u001b[?25hRequirement already satisfied: numpy==1.19.5 in /usr/local/lib/python3.7/dist-packages (from -r ../requirements.txt (line 36)) (1.19.5)\n",
            "Requirement already satisfied: oauth2client==4.1.3 in /usr/local/lib/python3.7/dist-packages (from -r ../requirements.txt (line 37)) (4.1.3)\n",
            "Requirement already satisfied: oauthlib==3.1.1 in /usr/local/lib/python3.7/dist-packages (from -r ../requirements.txt (line 38)) (3.1.1)\n",
            "Collecting opencv-python-headless==4.5.3.56\n",
            "  Downloading opencv_python_headless-4.5.3.56-cp37-cp37m-manylinux2014_x86_64.whl (37.1 MB)\n",
            "\u001b[K     |████████████████████████████████| 37.1 MB 80 kB/s \n",
            "\u001b[?25hRequirement already satisfied: opt-einsum==3.3.0 in /usr/local/lib/python3.7/dist-packages (from -r ../requirements.txt (line 40)) (3.3.0)\n",
            "Requirement already satisfied: packaging==21.0 in /usr/local/lib/python3.7/dist-packages (from -r ../requirements.txt (line 41)) (21.0)\n",
            "Collecting pandas==1.3.0\n",
            "  Downloading pandas-1.3.0-cp37-cp37m-manylinux_2_5_x86_64.manylinux1_x86_64.whl (10.8 MB)\n",
            "\u001b[K     |████████████████████████████████| 10.8 MB 36.8 MB/s \n",
            "\u001b[?25hCollecting Pillow==8.3.1\n",
            "  Downloading Pillow-8.3.1-cp37-cp37m-manylinux_2_5_x86_64.manylinux1_x86_64.whl (3.0 MB)\n",
            "\u001b[K     |████████████████████████████████| 3.0 MB 45.5 MB/s \n",
            "\u001b[?25hCollecting portalocker==2.0.0\n",
            "  Downloading portalocker-2.0.0-py2.py3-none-any.whl (11 kB)\n",
            "Requirement already satisfied: promise==2.3 in /usr/local/lib/python3.7/dist-packages (from -r ../requirements.txt (line 45)) (2.3)\n",
            "Requirement already satisfied: protobuf==3.17.3 in /usr/local/lib/python3.7/dist-packages (from -r ../requirements.txt (line 46)) (3.17.3)\n",
            "Collecting psutil==5.8.0\n",
            "  Downloading psutil-5.8.0-cp37-cp37m-manylinux2010_x86_64.whl (296 kB)\n",
            "\u001b[K     |████████████████████████████████| 296 kB 57.8 MB/s \n",
            "\u001b[?25hCollecting py-cpuinfo==8.0.0\n",
            "  Downloading py-cpuinfo-8.0.0.tar.gz (99 kB)\n",
            "\u001b[K     |████████████████████████████████| 99 kB 9.5 MB/s \n",
            "\u001b[?25hRequirement already satisfied: pyasn1==0.4.8 in /usr/local/lib/python3.7/dist-packages (from -r ../requirements.txt (line 49)) (0.4.8)\n",
            "Requirement already satisfied: pyasn1-modules==0.2.8 in /usr/local/lib/python3.7/dist-packages (from -r ../requirements.txt (line 50)) (0.2.8)\n",
            "Requirement already satisfied: pycocotools==2.0.2 in /usr/local/lib/python3.7/dist-packages (from -r ../requirements.txt (line 51)) (2.0.2)\n",
            "Requirement already satisfied: pyparsing==2.4.7 in /usr/local/lib/python3.7/dist-packages (from -r ../requirements.txt (line 52)) (2.4.7)\n",
            "Collecting python-dateutil==2.8.2\n",
            "  Downloading python_dateutil-2.8.2-py2.py3-none-any.whl (247 kB)\n",
            "\u001b[K     |████████████████████████████████| 247 kB 56.5 MB/s \n",
            "\u001b[?25hRequirement already satisfied: python-slugify==5.0.2 in /usr/local/lib/python3.7/dist-packages (from -r ../requirements.txt (line 54)) (5.0.2)\n",
            "Collecting pytz==2021.1\n",
            "  Downloading pytz-2021.1-py2.py3-none-any.whl (510 kB)\n",
            "\u001b[K     |████████████████████████████████| 510 kB 48.5 MB/s \n",
            "\u001b[?25hCollecting PyYAML==5.4.1\n",
            "  Downloading PyYAML-5.4.1-cp37-cp37m-manylinux1_x86_64.whl (636 kB)\n",
            "\u001b[K     |████████████████████████████████| 636 kB 44.1 MB/s \n",
            "\u001b[?25hCollecting requests==2.26.0\n",
            "  Downloading requests-2.26.0-py2.py3-none-any.whl (62 kB)\n",
            "\u001b[K     |████████████████████████████████| 62 kB 946 kB/s \n",
            "\u001b[?25hRequirement already satisfied: requests-oauthlib==1.3.0 in /usr/local/lib/python3.7/dist-packages (from -r ../requirements.txt (line 58)) (1.3.0)\n",
            "Requirement already satisfied: rsa==4.7.2 in /usr/local/lib/python3.7/dist-packages (from -r ../requirements.txt (line 59)) (4.7.2)\n",
            "Collecting sacrebleu==1.5.1\n",
            "  Downloading sacrebleu-1.5.1-py3-none-any.whl (54 kB)\n",
            "\u001b[K     |████████████████████████████████| 54 kB 3.3 MB/s \n",
            "\u001b[?25hCollecting scikit-learn==0.24.2\n",
            "  Downloading scikit_learn-0.24.2-cp37-cp37m-manylinux2010_x86_64.whl (22.3 MB)\n",
            "\u001b[K     |████████████████████████████████| 22.3 MB 49.9 MB/s \n",
            "\u001b[?25hCollecting scipy==1.7.0\n",
            "  Downloading scipy-1.7.0-cp37-cp37m-manylinux_2_5_x86_64.manylinux1_x86_64.whl (28.5 MB)\n",
            "\u001b[K     |████████████████████████████████| 28.5 MB 1.3 MB/s \n",
            "\u001b[?25hCollecting sentencepiece==0.1.96\n",
            "  Downloading sentencepiece-0.1.96-cp37-cp37m-manylinux_2_17_x86_64.manylinux2014_x86_64.whl (1.2 MB)\n",
            "\u001b[K     |████████████████████████████████| 1.2 MB 53.2 MB/s \n",
            "\u001b[?25hCollecting seqeval==1.2.2\n",
            "  Downloading seqeval-1.2.2.tar.gz (43 kB)\n",
            "\u001b[K     |████████████████████████████████| 43 kB 2.2 MB/s \n",
            "\u001b[?25hRequirement already satisfied: six==1.15.0 in /usr/local/lib/python3.7/dist-packages (from -r ../requirements.txt (line 65)) (1.15.0)\n",
            "Requirement already satisfied: sklearn==0.0 in /usr/local/lib/python3.7/dist-packages (from -r ../requirements.txt (line 66)) (0.0)\n",
            "Requirement already satisfied: tensorboard==2.5.0 in /usr/local/lib/python3.7/dist-packages (from -r ../requirements.txt (line 67)) (2.5.0)\n",
            "Requirement already satisfied: tensorboard-data-server==0.6.1 in /usr/local/lib/python3.7/dist-packages (from -r ../requirements.txt (line 68)) (0.6.1)\n",
            "Requirement already satisfied: tensorboard-plugin-wit==1.8.0 in /usr/local/lib/python3.7/dist-packages (from -r ../requirements.txt (line 69)) (1.8.0)\n",
            "Requirement already satisfied: tensorflow==2.5.0 in /usr/local/lib/python3.7/dist-packages (from -r ../requirements.txt (line 70)) (2.5.0)\n",
            "Collecting tensorflow-addons==0.13.0\n",
            "  Downloading tensorflow_addons-0.13.0-cp37-cp37m-manylinux2010_x86_64.whl (679 kB)\n",
            "\u001b[K     |████████████████████████████████| 679 kB 43.8 MB/s \n",
            "\u001b[?25hCollecting tensorflow-datasets==4.3.0\n",
            "  Downloading tensorflow_datasets-4.3.0-py3-none-any.whl (3.9 MB)\n",
            "\u001b[K     |████████████████████████████████| 3.9 MB 53.8 MB/s \n",
            "\u001b[?25hRequirement already satisfied: tensorflow-estimator==2.5.0 in /usr/local/lib/python3.7/dist-packages (from -r ../requirements.txt (line 73)) (2.5.0)\n",
            "Requirement already satisfied: tensorflow-hub==0.12.0 in /usr/local/lib/python3.7/dist-packages (from -r ../requirements.txt (line 74)) (0.12.0)\n",
            "Requirement already satisfied: tensorflow-metadata==1.1.0 in /usr/local/lib/python3.7/dist-packages (from -r ../requirements.txt (line 75)) (1.1.0)\n",
            "Collecting tensorflow-model-optimization==0.6.0\n",
            "  Downloading tensorflow_model_optimization-0.6.0-py2.py3-none-any.whl (211 kB)\n",
            "\u001b[K     |████████████████████████████████| 211 kB 64.9 MB/s \n",
            "\u001b[?25hRequirement already satisfied: termcolor==1.1.0 in /usr/local/lib/python3.7/dist-packages (from -r ../requirements.txt (line 77)) (1.1.0)\n",
            "Requirement already satisfied: text-unidecode==1.3 in /usr/local/lib/python3.7/dist-packages (from -r ../requirements.txt (line 78)) (1.3)\n",
            "Collecting tf-models-official==2.5.1\n",
            "  Downloading tf_models_official-2.5.1-py2.py3-none-any.whl (1.6 MB)\n",
            "\u001b[K     |████████████████████████████████| 1.6 MB 47.3 MB/s \n",
            "\u001b[?25hCollecting tf-slim==1.1.0\n",
            "  Downloading tf_slim-1.1.0-py2.py3-none-any.whl (352 kB)\n",
            "\u001b[K     |████████████████████████████████| 352 kB 59.4 MB/s \n",
            "\u001b[?25hCollecting threadpoolctl==2.2.0\n",
            "  Downloading threadpoolctl-2.2.0-py3-none-any.whl (12 kB)\n",
            "Collecting tqdm==4.61.2\n",
            "  Downloading tqdm-4.61.2-py2.py3-none-any.whl (76 kB)\n",
            "\u001b[K     |████████████████████████████████| 76 kB 4.0 MB/s \n",
            "\u001b[?25hCollecting typeguard==2.12.1\n",
            "  Downloading typeguard-2.12.1-py3-none-any.whl (17 kB)\n",
            "Requirement already satisfied: typing-extensions==3.7.4.3 in /usr/local/lib/python3.7/dist-packages (from -r ../requirements.txt (line 84)) (3.7.4.3)\n",
            "Requirement already satisfied: uritemplate==3.0.1 in /usr/local/lib/python3.7/dist-packages (from -r ../requirements.txt (line 85)) (3.0.1)\n",
            "Collecting urllib3==1.26.6\n",
            "  Downloading urllib3-1.26.6-py2.py3-none-any.whl (138 kB)\n",
            "\u001b[K     |████████████████████████████████| 138 kB 47.1 MB/s \n",
            "\u001b[?25hCollecting Werkzeug==2.0.1\n",
            "  Downloading Werkzeug-2.0.1-py3-none-any.whl (288 kB)\n",
            "\u001b[K     |████████████████████████████████| 288 kB 58.5 MB/s \n",
            "\u001b[?25hRequirement already satisfied: wrapt==1.12.1 in /usr/local/lib/python3.7/dist-packages (from -r ../requirements.txt (line 88)) (1.12.1)\n",
            "Requirement already satisfied: zipp==3.5.0 in /usr/local/lib/python3.7/dist-packages (from -r ../requirements.txt (line 89)) (3.5.0)\n",
            "Requirement already satisfied: wheel<1.0,>=0.23.0 in /usr/local/lib/python3.7/dist-packages (from astunparse==1.6.3->-r ../requirements.txt (line 2)) (0.36.2)\n",
            "Requirement already satisfied: setuptools>=40.3.0 in /usr/local/lib/python3.7/dist-packages (from google-api-core==1.31.0->-r ../requirements.txt (line 16)) (57.2.0)\n",
            "Building wheels for collected packages: future, py-cpuinfo, seqeval\n",
            "  Building wheel for future (setup.py) ... \u001b[?25l\u001b[?25hdone\n",
            "  Created wheel for future: filename=future-0.18.2-py3-none-any.whl size=491070 sha256=7a1df4563a8ce80440bbf848a1511f26f3664faacb2be2b47558192994925e1b\n",
            "  Stored in directory: /root/.cache/pip/wheels/56/b0/fe/4410d17b32f1f0c3cf54cdfb2bc04d7b4b8f4ae377e2229ba0\n",
            "  Building wheel for py-cpuinfo (setup.py) ... \u001b[?25l\u001b[?25hdone\n",
            "  Created wheel for py-cpuinfo: filename=py_cpuinfo-8.0.0-py3-none-any.whl size=22257 sha256=0b921d74c2daf3769f0ebf07d61f3c696cad767fdccd356d22b7c5804f589f3e\n",
            "  Stored in directory: /root/.cache/pip/wheels/d2/f1/1f/041add21dc9c4220157f1bd2bd6afe1f1a49524c3396b94401\n",
            "  Building wheel for seqeval (setup.py) ... \u001b[?25l\u001b[?25hdone\n",
            "  Created wheel for seqeval: filename=seqeval-1.2.2-py3-none-any.whl size=16181 sha256=1c63b768d3b433261844727fa04e357320f59e3084249d3d23ef42711dd5c3f0\n",
            "  Stored in directory: /root/.cache/pip/wheels/05/96/ee/7cac4e74f3b19e3158dce26a20a1c86b3533c43ec72a549fd7\n",
            "Successfully built future py-cpuinfo seqeval\n",
            "Installing collected packages: urllib3, idna, charset-normalizer, requests, google-auth, Werkzeug, threadpoolctl, scipy, pytz, python-dateutil, Pillow, httplib2, typeguard, tqdm, scikit-learn, portalocker, matplotlib, google-auth-httplib2, google-api-core, future, Cython, tf-slim, tensorflow-model-optimization, tensorflow-datasets, tensorflow-addons, seqeval, sentencepiece, sacrebleu, PyYAML, py-cpuinfo, psutil, pandas, opencv-python-headless, google-api-python-client, tf-models-official\n",
            "  Attempting uninstall: urllib3\n",
            "    Found existing installation: urllib3 1.24.3\n",
            "    Uninstalling urllib3-1.24.3:\n",
            "      Successfully uninstalled urllib3-1.24.3\n",
            "  Attempting uninstall: idna\n",
            "    Found existing installation: idna 2.10\n",
            "    Uninstalling idna-2.10:\n",
            "      Successfully uninstalled idna-2.10\n",
            "  Attempting uninstall: charset-normalizer\n",
            "    Found existing installation: charset-normalizer 2.0.2\n",
            "    Uninstalling charset-normalizer-2.0.2:\n",
            "      Successfully uninstalled charset-normalizer-2.0.2\n",
            "  Attempting uninstall: requests\n",
            "    Found existing installation: requests 2.23.0\n",
            "    Uninstalling requests-2.23.0:\n",
            "      Successfully uninstalled requests-2.23.0\n",
            "  Attempting uninstall: google-auth\n",
            "    Found existing installation: google-auth 1.32.1\n",
            "    Uninstalling google-auth-1.32.1:\n",
            "      Successfully uninstalled google-auth-1.32.1\n",
            "  Attempting uninstall: Werkzeug\n",
            "    Found existing installation: Werkzeug 1.0.1\n",
            "    Uninstalling Werkzeug-1.0.1:\n",
            "      Successfully uninstalled Werkzeug-1.0.1\n",
            "  Attempting uninstall: scipy\n",
            "    Found existing installation: scipy 1.4.1\n",
            "    Uninstalling scipy-1.4.1:\n",
            "      Successfully uninstalled scipy-1.4.1\n",
            "  Attempting uninstall: pytz\n",
            "    Found existing installation: pytz 2018.9\n",
            "    Uninstalling pytz-2018.9:\n",
            "      Successfully uninstalled pytz-2018.9\n",
            "  Attempting uninstall: python-dateutil\n",
            "    Found existing installation: python-dateutil 2.8.1\n",
            "    Uninstalling python-dateutil-2.8.1:\n",
            "      Successfully uninstalled python-dateutil-2.8.1\n",
            "  Attempting uninstall: Pillow\n",
            "    Found existing installation: Pillow 7.1.2\n",
            "    Uninstalling Pillow-7.1.2:\n",
            "      Successfully uninstalled Pillow-7.1.2\n",
            "  Attempting uninstall: httplib2\n",
            "    Found existing installation: httplib2 0.17.4\n",
            "    Uninstalling httplib2-0.17.4:\n",
            "      Successfully uninstalled httplib2-0.17.4\n",
            "  Attempting uninstall: typeguard\n",
            "    Found existing installation: typeguard 2.7.1\n",
            "    Uninstalling typeguard-2.7.1:\n",
            "      Successfully uninstalled typeguard-2.7.1\n",
            "  Attempting uninstall: tqdm\n",
            "    Found existing installation: tqdm 4.41.1\n",
            "    Uninstalling tqdm-4.41.1:\n",
            "      Successfully uninstalled tqdm-4.41.1\n",
            "  Attempting uninstall: scikit-learn\n",
            "    Found existing installation: scikit-learn 0.22.2.post1\n",
            "    Uninstalling scikit-learn-0.22.2.post1:\n",
            "      Successfully uninstalled scikit-learn-0.22.2.post1\n",
            "  Attempting uninstall: matplotlib\n",
            "    Found existing installation: matplotlib 3.2.2\n",
            "    Uninstalling matplotlib-3.2.2:\n",
            "      Successfully uninstalled matplotlib-3.2.2\n",
            "  Attempting uninstall: google-auth-httplib2\n",
            "    Found existing installation: google-auth-httplib2 0.0.4\n",
            "    Uninstalling google-auth-httplib2-0.0.4:\n",
            "      Successfully uninstalled google-auth-httplib2-0.0.4\n",
            "  Attempting uninstall: google-api-core\n",
            "    Found existing installation: google-api-core 1.26.3\n",
            "    Uninstalling google-api-core-1.26.3:\n",
            "      Successfully uninstalled google-api-core-1.26.3\n",
            "  Attempting uninstall: future\n",
            "    Found existing installation: future 0.16.0\n",
            "    Uninstalling future-0.16.0:\n",
            "      Successfully uninstalled future-0.16.0\n",
            "  Attempting uninstall: Cython\n",
            "    Found existing installation: Cython 0.29.23\n",
            "    Uninstalling Cython-0.29.23:\n",
            "      Successfully uninstalled Cython-0.29.23\n",
            "  Attempting uninstall: tensorflow-datasets\n",
            "    Found existing installation: tensorflow-datasets 4.0.1\n",
            "    Uninstalling tensorflow-datasets-4.0.1:\n",
            "      Successfully uninstalled tensorflow-datasets-4.0.1\n",
            "  Attempting uninstall: PyYAML\n",
            "    Found existing installation: PyYAML 3.13\n",
            "    Uninstalling PyYAML-3.13:\n",
            "      Successfully uninstalled PyYAML-3.13\n",
            "  Attempting uninstall: psutil\n",
            "    Found existing installation: psutil 5.4.8\n",
            "    Uninstalling psutil-5.4.8:\n",
            "      Successfully uninstalled psutil-5.4.8\n",
            "  Attempting uninstall: pandas\n",
            "    Found existing installation: pandas 1.1.5\n",
            "    Uninstalling pandas-1.1.5:\n",
            "      Successfully uninstalled pandas-1.1.5\n",
            "  Attempting uninstall: google-api-python-client\n",
            "    Found existing installation: google-api-python-client 1.12.8\n",
            "    Uninstalling google-api-python-client-1.12.8:\n",
            "      Successfully uninstalled google-api-python-client-1.12.8\n",
            "\u001b[31mERROR: pip's dependency resolver does not currently take into account all the packages that are installed. This behaviour is the source of the following dependency conflicts.\n",
            "google-colab 1.0.0 requires pandas~=1.1.0; python_version >= \"3.0\", but you have pandas 1.3.0 which is incompatible.\n",
            "google-colab 1.0.0 requires requests~=2.23.0, but you have requests 2.26.0 which is incompatible.\n",
            "flask 1.1.4 requires Werkzeug<2.0,>=0.15, but you have werkzeug 2.0.1 which is incompatible.\n",
            "earthengine-api 0.1.272 requires google-api-python-client<2,>=1.12.1, but you have google-api-python-client 2.14.0 which is incompatible.\n",
            "datascience 0.10.6 requires folium==0.2.1, but you have folium 0.8.3 which is incompatible.\n",
            "albumentations 0.1.12 requires imgaug<0.2.7,>=0.2.5, but you have imgaug 0.2.9 which is incompatible.\u001b[0m\n",
            "Successfully installed Cython-0.29.24 Pillow-8.3.1 PyYAML-5.4.1 Werkzeug-2.0.1 charset-normalizer-2.0.3 future-0.18.2 google-api-core-1.31.0 google-api-python-client-2.14.0 google-auth-1.33.1 google-auth-httplib2-0.1.0 httplib2-0.19.1 idna-3.2 matplotlib-3.4.2 opencv-python-headless-4.5.3.56 pandas-1.3.0 portalocker-2.0.0 psutil-5.8.0 py-cpuinfo-8.0.0 python-dateutil-2.8.2 pytz-2021.1 requests-2.26.0 sacrebleu-1.5.1 scikit-learn-0.24.2 scipy-1.7.0 sentencepiece-0.1.96 seqeval-1.2.2 tensorflow-addons-0.13.0 tensorflow-datasets-4.3.0 tensorflow-model-optimization-0.6.0 tf-models-official-2.5.1 tf-slim-1.1.0 threadpoolctl-2.2.0 tqdm-4.61.2 typeguard-2.12.1 urllib3-1.26.6\n"
          ],
          "name": "stdout"
        },
        {
          "output_type": "display_data",
          "data": {
            "application/vnd.colab-display-data+json": {
              "pip_warning": {
                "packages": [
                  "PIL",
                  "dateutil",
                  "google",
                  "google_auth_httplib2",
                  "googleapiclient",
                  "httplib2",
                  "idna",
                  "matplotlib",
                  "mpl_toolkits",
                  "pandas",
                  "psutil",
                  "pytz",
                  "requests",
                  "scipy",
                  "urllib3",
                  "yaml"
                ]
              }
            }
          },
          "metadata": {
            "tags": []
          }
        }
      ]
    },
    {
      "cell_type": "code",
      "metadata": {
        "id": "hQU2Nb3XUFOZ"
      },
      "source": [
        "# dpfa\n",
        "import dpfa_config, preprocessing, model, losses, main"
      ],
      "execution_count": 5,
      "outputs": []
    },
    {
      "cell_type": "markdown",
      "metadata": {
        "id": "3sfzXPibWrzQ"
      },
      "source": [
        "# 2. Load Data"
      ]
    },
    {
      "cell_type": "code",
      "metadata": {
        "id": "2Hg2MJcpUTfK"
      },
      "source": [
        "dataset = 'assist2017'\n",
        "if dataset == 'synthetic5':\n",
        "    max_len = 50\n",
        "else:\n",
        "    max_len = dpfa_config.MAX_LEN\n",
        "\n",
        "if dataset == 'nips2020':\n",
        "    raise NotImplementedError\n",
        "else:\n",
        "    data_dir = dpfa_config.DATA_DIR\n",
        "\n",
        "data = preprocessing.DataSet(\n",
        "    dataset,   # name of dataset\n",
        "    data_dir,  # data director\n",
        "    0,         # cv idx \n",
        "    max_len=max_len, # max_len\n",
        "    **dpfa_config.config[dataset]  # other default training parameters\n",
        "    )"
      ],
      "execution_count": 6,
      "outputs": []
    },
    {
      "cell_type": "code",
      "metadata": {
        "colab": {
          "base_uri": "https://localhost:8080/"
        },
        "id": "Rfj_VcYcVlOb",
        "outputId": "02f04204-4ad2-46cd-afbf-232cbd84a214"
      },
      "source": [
        "data.load_data()"
      ],
      "execution_count": 7,
      "outputs": [
        {
          "output_type": "stream",
          "text": [
            "train data in /content/dirve/MyDrive/dpfa/data/assist2017-cv-train-0.csv is loaded\n",
            "test data in /content/dirve/MyDrive/dpfa/data/assist2017-cv-test-0.csv is loaded\n"
          ],
          "name": "stderr"
        }
      ]
    },
    {
      "cell_type": "code",
      "metadata": {
        "colab": {
          "base_uri": "https://localhost:8080/"
        },
        "id": "q66kTwsMVZ0o",
        "outputId": "dd1ad1c3-b9ce-4c5f-bd03-8fbbd94b08f5"
      },
      "source": [
        "data.describe_data()"
      ],
      "execution_count": 8,
      "outputs": [
        {
          "output_type": "stream",
          "text": [
            "dataset = assist2017\n",
            "num of attempts = 393.663 K\n",
            "num of students = 1709\n",
            "num of items = 4119\n"
          ],
          "name": "stderr"
        }
      ]
    },
    {
      "cell_type": "code",
      "metadata": {
        "colab": {
          "base_uri": "https://localhost:8080/"
        },
        "id": "2x04UZk1WRCY",
        "outputId": "490bace5-f5fa-41b8-c96f-729b6dce714e"
      },
      "source": [
        "(train_inputs, train_targets), (test_inputs, test_targets) = data.preprocess()"
      ],
      "execution_count": 9,
      "outputs": [
        {
          "output_type": "stream",
          "text": [
            "input dataset is raw, will perform encode and extract features\n",
            "problem encoder is created\n",
            "train and test data are encoded\n",
            "train and test sequences are extracted\n",
            "100%|██████████| 1367/1367 [00:00<00:00, 46656.09it/s]\n",
            "100%|██████████| 342/342 [00:00<00:00, 42254.39it/s]\n",
            "train and test sequences are folded\n",
            "train and test inputs and targets are created\n"
          ],
          "name": "stderr"
        }
      ]
    },
    {
      "cell_type": "markdown",
      "metadata": {
        "id": "dMrXeSMfWxnT"
      },
      "source": [
        "# 3. Build Model"
      ]
    },
    {
      "cell_type": "code",
      "metadata": {
        "id": "gihp8izpWVow"
      },
      "source": [
        "dpfa_model = model.DPFABase(\n",
        "    hidden_size=16,\n",
        "    dropout=0.2,\n",
        "    item_vocab_size=data.item_vocab_size,\n",
        "    regulate_dot_product=False,\n",
        "    time_decay=False,\n",
        "    normalize_embedding=True,\n",
        "    )"
      ],
      "execution_count": 10,
      "outputs": []
    },
    {
      "cell_type": "code",
      "metadata": {
        "id": "jg-OJv97YfYD"
      },
      "source": [
        "batch_size = 512\n",
        "lr = 0.008 * batch_size / 128 * max_len / 128\n",
        "\n",
        "dpfa_model.compile(\n",
        "    optimizer=tf.keras.optimizers.Adam(learning_rate=lr),\n",
        "    loss=losses.PaddedBinaryCrossentropyLoss(0.1)\n",
        ")"
      ],
      "execution_count": 11,
      "outputs": []
    },
    {
      "cell_type": "code",
      "metadata": {
        "colab": {
          "base_uri": "https://localhost:8080/"
        },
        "id": "8pBOZj9kYhlM",
        "outputId": "3007a5fb-ee43-42d9-9f72-43b737d4d1cf"
      },
      "source": [
        "dpfa_model.fit(\n",
        "    train_inputs,\n",
        "    train_targets,\n",
        "    validation_split=0.1,\n",
        "    epochs=60,\n",
        "    batch_size=batch_size,\n",
        ")"
      ],
      "execution_count": 12,
      "outputs": [
        {
          "output_type": "stream",
          "text": [
            "Epoch 1/60\n",
            "WARNING:tensorflow:From /usr/local/lib/python3.7/dist-packages/tensorflow/python/ops/array_ops.py:5049: calling gather (from tensorflow.python.ops.array_ops) with validate_indices is deprecated and will be removed in a future version.\n",
            "Instructions for updating:\n",
            "The `validate_indices` argument has no effect. Indices are always validated on CPU and never validated on GPU.\n",
            "4/4 [==============================] - 4s 101ms/step - loss: 0.7902 - val_loss: 0.7514\n",
            "Epoch 2/60\n",
            "4/4 [==============================] - 0s 28ms/step - loss: 0.7346 - val_loss: 0.7046\n",
            "Epoch 3/60\n",
            "4/4 [==============================] - 0s 27ms/step - loss: 0.6883 - val_loss: 0.6689\n",
            "Epoch 4/60\n",
            "4/4 [==============================] - 0s 27ms/step - loss: 0.6544 - val_loss: 0.6444\n",
            "Epoch 5/60\n",
            "4/4 [==============================] - 0s 27ms/step - loss: 0.6307 - val_loss: 0.6278\n",
            "Epoch 6/60\n",
            "4/4 [==============================] - 0s 28ms/step - loss: 0.6139 - val_loss: 0.6162\n",
            "Epoch 7/60\n",
            "4/4 [==============================] - 0s 27ms/step - loss: 0.6015 - val_loss: 0.6081\n",
            "Epoch 8/60\n",
            "4/4 [==============================] - 0s 27ms/step - loss: 0.5924 - val_loss: 0.6022\n",
            "Epoch 9/60\n",
            "4/4 [==============================] - 0s 28ms/step - loss: 0.5855 - val_loss: 0.5977\n",
            "Epoch 10/60\n",
            "4/4 [==============================] - 0s 27ms/step - loss: 0.5800 - val_loss: 0.5942\n",
            "Epoch 11/60\n",
            "4/4 [==============================] - 0s 26ms/step - loss: 0.5755 - val_loss: 0.5915\n",
            "Epoch 12/60\n",
            "4/4 [==============================] - 0s 27ms/step - loss: 0.5719 - val_loss: 0.5893\n",
            "Epoch 13/60\n",
            "4/4 [==============================] - 0s 27ms/step - loss: 0.5688 - val_loss: 0.5876\n",
            "Epoch 14/60\n",
            "4/4 [==============================] - 0s 27ms/step - loss: 0.5662 - val_loss: 0.5862\n",
            "Epoch 15/60\n",
            "4/4 [==============================] - 0s 27ms/step - loss: 0.5640 - val_loss: 0.5851\n",
            "Epoch 16/60\n",
            "4/4 [==============================] - 0s 27ms/step - loss: 0.5621 - val_loss: 0.5842\n",
            "Epoch 17/60\n",
            "4/4 [==============================] - 0s 27ms/step - loss: 0.5602 - val_loss: 0.5835\n",
            "Epoch 18/60\n",
            "4/4 [==============================] - 0s 26ms/step - loss: 0.5586 - val_loss: 0.5829\n",
            "Epoch 19/60\n",
            "4/4 [==============================] - 0s 28ms/step - loss: 0.5572 - val_loss: 0.5825\n",
            "Epoch 20/60\n",
            "4/4 [==============================] - 0s 26ms/step - loss: 0.5559 - val_loss: 0.5822\n",
            "Epoch 21/60\n",
            "4/4 [==============================] - 0s 28ms/step - loss: 0.5547 - val_loss: 0.5819\n",
            "Epoch 22/60\n",
            "4/4 [==============================] - 0s 27ms/step - loss: 0.5536 - val_loss: 0.5818\n",
            "Epoch 23/60\n",
            "4/4 [==============================] - 0s 28ms/step - loss: 0.5526 - val_loss: 0.5816\n",
            "Epoch 24/60\n",
            "4/4 [==============================] - 0s 27ms/step - loss: 0.5515 - val_loss: 0.5816\n",
            "Epoch 25/60\n",
            "4/4 [==============================] - 0s 27ms/step - loss: 0.5507 - val_loss: 0.5815\n",
            "Epoch 26/60\n",
            "4/4 [==============================] - 0s 27ms/step - loss: 0.5498 - val_loss: 0.5814\n",
            "Epoch 27/60\n",
            "4/4 [==============================] - 0s 27ms/step - loss: 0.5490 - val_loss: 0.5814\n",
            "Epoch 28/60\n",
            "4/4 [==============================] - 0s 29ms/step - loss: 0.5482 - val_loss: 0.5814\n",
            "Epoch 29/60\n",
            "4/4 [==============================] - 0s 27ms/step - loss: 0.5474 - val_loss: 0.5814\n",
            "Epoch 30/60\n",
            "4/4 [==============================] - 0s 26ms/step - loss: 0.5468 - val_loss: 0.5816\n",
            "Epoch 31/60\n",
            "4/4 [==============================] - 0s 26ms/step - loss: 0.5462 - val_loss: 0.5816\n",
            "Epoch 32/60\n",
            "4/4 [==============================] - 0s 26ms/step - loss: 0.5456 - val_loss: 0.5817\n",
            "Epoch 33/60\n",
            "4/4 [==============================] - 0s 26ms/step - loss: 0.5449 - val_loss: 0.5818\n",
            "Epoch 34/60\n",
            "4/4 [==============================] - 0s 28ms/step - loss: 0.5444 - val_loss: 0.5819\n",
            "Epoch 35/60\n",
            "4/4 [==============================] - 0s 28ms/step - loss: 0.5439 - val_loss: 0.5820\n",
            "Epoch 36/60\n",
            "4/4 [==============================] - 0s 27ms/step - loss: 0.5433 - val_loss: 0.5822\n",
            "Epoch 37/60\n",
            "4/4 [==============================] - 0s 27ms/step - loss: 0.5428 - val_loss: 0.5823\n",
            "Epoch 38/60\n",
            "4/4 [==============================] - 0s 28ms/step - loss: 0.5423 - val_loss: 0.5824\n",
            "Epoch 39/60\n",
            "4/4 [==============================] - 0s 27ms/step - loss: 0.5419 - val_loss: 0.5826\n",
            "Epoch 40/60\n",
            "4/4 [==============================] - 0s 27ms/step - loss: 0.5414 - val_loss: 0.5827\n",
            "Epoch 41/60\n",
            "4/4 [==============================] - 0s 30ms/step - loss: 0.5410 - val_loss: 0.5829\n",
            "Epoch 42/60\n",
            "4/4 [==============================] - 0s 27ms/step - loss: 0.5406 - val_loss: 0.5831\n",
            "Epoch 43/60\n",
            "4/4 [==============================] - 0s 28ms/step - loss: 0.5402 - val_loss: 0.5833\n",
            "Epoch 44/60\n",
            "4/4 [==============================] - 0s 27ms/step - loss: 0.5398 - val_loss: 0.5834\n",
            "Epoch 45/60\n",
            "4/4 [==============================] - 0s 27ms/step - loss: 0.5394 - val_loss: 0.5836\n",
            "Epoch 46/60\n",
            "4/4 [==============================] - 0s 28ms/step - loss: 0.5390 - val_loss: 0.5837\n",
            "Epoch 47/60\n",
            "4/4 [==============================] - 0s 27ms/step - loss: 0.5387 - val_loss: 0.5839\n",
            "Epoch 48/60\n",
            "4/4 [==============================] - 0s 27ms/step - loss: 0.5384 - val_loss: 0.5841\n",
            "Epoch 49/60\n",
            "4/4 [==============================] - 0s 27ms/step - loss: 0.5381 - val_loss: 0.5843\n",
            "Epoch 50/60\n",
            "4/4 [==============================] - 0s 27ms/step - loss: 0.5377 - val_loss: 0.5846\n",
            "Epoch 51/60\n",
            "4/4 [==============================] - 0s 27ms/step - loss: 0.5373 - val_loss: 0.5848\n",
            "Epoch 52/60\n",
            "4/4 [==============================] - 0s 27ms/step - loss: 0.5370 - val_loss: 0.5850\n",
            "Epoch 53/60\n",
            "4/4 [==============================] - 0s 28ms/step - loss: 0.5369 - val_loss: 0.5852\n",
            "Epoch 54/60\n",
            "4/4 [==============================] - 0s 27ms/step - loss: 0.5365 - val_loss: 0.5855\n",
            "Epoch 55/60\n",
            "4/4 [==============================] - 0s 28ms/step - loss: 0.5362 - val_loss: 0.5856\n",
            "Epoch 56/60\n",
            "4/4 [==============================] - 0s 25ms/step - loss: 0.5358 - val_loss: 0.5859\n",
            "Epoch 57/60\n",
            "4/4 [==============================] - 0s 27ms/step - loss: 0.5357 - val_loss: 0.5861\n",
            "Epoch 58/60\n",
            "4/4 [==============================] - 0s 27ms/step - loss: 0.5354 - val_loss: 0.5864\n",
            "Epoch 59/60\n",
            "4/4 [==============================] - 0s 27ms/step - loss: 0.5351 - val_loss: 0.5866\n",
            "Epoch 60/60\n",
            "4/4 [==============================] - 0s 26ms/step - loss: 0.5347 - val_loss: 0.5868\n"
          ],
          "name": "stdout"
        },
        {
          "output_type": "execute_result",
          "data": {
            "text/plain": [
              "<tensorflow.python.keras.callbacks.History at 0x7fb2fb5fd2d0>"
            ]
          },
          "metadata": {
            "tags": []
          },
          "execution_count": 12
        }
      ]
    },
    {
      "cell_type": "code",
      "metadata": {
        "colab": {
          "base_uri": "https://localhost:8080/"
        },
        "id": "kq0dDqdYaBuv",
        "outputId": "fe6dea2d-5cdd-49de-d678-7123c10ef797"
      },
      "source": [
        "# auc\n",
        "main.evaluate(test_inputs, test_targets, dpfa_model, test_size=test_targets.shape[0])"
      ],
      "execution_count": 13,
      "outputs": [
        {
          "output_type": "execute_result",
          "data": {
            "text/plain": [
              "0.7893170156788926"
            ]
          },
          "metadata": {
            "tags": []
          },
          "execution_count": 13
        }
      ]
    },
    {
      "cell_type": "code",
      "metadata": {
        "id": "vdiW5AI-GhoK"
      },
      "source": [
        ""
      ],
      "execution_count": null,
      "outputs": []
    }
  ]
}